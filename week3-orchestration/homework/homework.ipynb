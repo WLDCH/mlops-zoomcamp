{
 "cells": [
  {
   "cell_type": "markdown",
   "metadata": {},
   "source": [
    "# Homework week 3"
   ]
  },
  {
   "cell_type": "markdown",
   "metadata": {},
   "source": [
    "The script where all manipulation where done is the `homework.py` file."
   ]
  },
  {
   "cell_type": "markdown",
   "metadata": {},
   "source": [
    "# Q1. Converting the script to a Prefect flow"
   ]
  },
  {
   "cell_type": "code",
   "execution_count": 3,
   "metadata": {},
   "outputs": [
    {
     "name": "stdout",
     "output_type": "stream",
     "text": [
      "The mean duration of training is 16.247253368247375\n",
      "The mean duration of validation is 16.859265811074575\n",
      "The shape of X_train is (1109826, 525)\n",
      "The DictVectorizer has 525 features\n",
      "The MSE of training is: 10.528519107212292\n",
      "The MSE of validation is: 11.014283211122269\n"
     ]
    }
   ],
   "source": [
    "!python homework.py"
   ]
  },
  {
   "cell_type": "markdown",
   "metadata": {},
   "source": [
    "We add `flow` decorator to the `main` function and `task` decorators to all other functions.\n",
    "\n",
    "We have to call `train_model` with `.result()` to make things work."
   ]
  },
  {
   "cell_type": "markdown",
   "metadata": {},
   "source": [
    "# Q2. Parameterizing the flow\n"
   ]
  },
  {
   "cell_type": "markdown",
   "metadata": {},
   "source": [
    "The `get_paths` function look like this:"
   ]
  },
  {
   "cell_type": "code",
   "execution_count": null,
   "metadata": {},
   "outputs": [],
   "source": [
    "def get_paths(date):\n",
    "    if date is None:\n",
    "        date = date.today()\n",
    "    else:\n",
    "        date = datetime.strptime(date, '%Y-%m-%d')\n",
    "    train_date, valid_date = date - timedelta(days=62),  date - timedelta(days=31)\n",
    "    train_path, valid_path = f'./data/fhv_tripdata_{train_date.year}-0{train_date.month}.parquet', f'./data/fhv_tripdata_{valid_date.year}-0{valid_date.month}.parquet'\n",
    "\n",
    "    return(train_path, valid_path)"
   ]
  },
  {
   "cell_type": "markdown",
   "metadata": {},
   "source": [
    "The validation MSE is **11.637**"
   ]
  },
  {
   "cell_type": "markdown",
   "metadata": {},
   "source": [
    "# Q3. Saving the model and artifacts"
   ]
  },
  {
   "cell_type": "markdown",
   "metadata": {},
   "source": [
    "We add the following lines to save the model and DictVectorizer with pickle :"
   ]
  },
  {
   "cell_type": "code",
   "execution_count": null,
   "metadata": {},
   "outputs": [],
   "source": [
    "with open(f'./models/model-{date.year}-0{date.month}-{date.day}.bin', 'wb') as f_out:\n",
    "    pickle.dump(lr)\n",
    "with open(f'./models/dv-{date.year}-0{date.month}-{date.day}.b', 'wb') as f_out:\n",
    "    pickle.dump(lr)   "
   ]
  },
  {
   "cell_type": "markdown",
   "metadata": {},
   "source": [
    "The size of the `DictVectorizer` when `date` is 2021-08-15 is **13,000 bytes**"
   ]
  },
  {
   "cell_type": "markdown",
   "metadata": {},
   "source": [
    "# Q4. Creating a deployment with a CronSchedule"
   ]
  },
  {
   "cell_type": "markdown",
   "metadata": {},
   "source": [
    "The Cron expression to run a flow at 9 AM every 15th of the month is  0 9 15 * *"
   ]
  },
  {
   "cell_type": "markdown",
   "metadata": {},
   "source": [
    "# Q5. Viewing the Deployment\n"
   ]
  },
  {
   "cell_type": "markdown",
   "metadata": {},
   "source": [
    "We see in the UI that there is 3 upcoming runs."
   ]
  },
  {
   "cell_type": "markdown",
   "metadata": {},
   "source": [
    "# Q6. Creating a work-queue"
   ]
  },
  {
   "cell_type": "markdown",
   "metadata": {},
   "source": [
    "The command to view the available work-queues is `prefect work-queue ls`"
   ]
  },
  {
   "cell_type": "code",
   "execution_count": 4,
   "metadata": {},
   "outputs": [
    {
     "name": "stdout",
     "output_type": "stream",
     "text": [
      "\u001b[3m                               Work Queues                                \u001b[0m\n",
      "┏━━━━━━━━━━━━━━━━━━━━━━━━━━━━━━━━━━━━━━┳━━━━━━━━━━━━━┳━━━━━━━━━━━━━━━━━━━┓\n",
      "┃\u001b[1m \u001b[0m\u001b[1m                                  ID\u001b[0m\u001b[1m \u001b[0m┃\u001b[1m \u001b[0m\u001b[1mName       \u001b[0m\u001b[1m \u001b[0m┃\u001b[1m \u001b[0m\u001b[1mConcurrency Limit\u001b[0m\u001b[1m \u001b[0m┃\n",
      "┡━━━━━━━━━━━━━━━━━━━━━━━━━━━━━━━━━━━━━━╇━━━━━━━━━━━━━╇━━━━━━━━━━━━━━━━━━━┩\n",
      "│\u001b[36m \u001b[0m\u001b[36maa51bbbd-2d5f-4c38-8602-21adb6d49526\u001b[0m\u001b[36m \u001b[0m│\u001b[32m \u001b[0m\u001b[32mhomework-wq\u001b[0m\u001b[32m \u001b[0m│\u001b[34m \u001b[0m\u001b[34mNone\u001b[0m\u001b[34m             \u001b[0m\u001b[34m \u001b[0m│\n",
      "│\u001b[36m \u001b[0m\u001b[36mf41cb79b-cab9-446f-a1d6-bc86a3acf028\u001b[0m\u001b[36m \u001b[0m│\u001b[32m \u001b[0m\u001b[32mglobal     \u001b[0m\u001b[32m \u001b[0m│\u001b[34m \u001b[0m\u001b[34mNone\u001b[0m\u001b[34m             \u001b[0m\u001b[34m \u001b[0m│\n",
      "└──────────────────────────────────────┴─────────────┴───────────────────┘\n",
      "\u001b[31m                       (**) denotes a paused queue                        \u001b[0m\n"
     ]
    }
   ],
   "source": [
    "!prefect work-queue ls"
   ]
  }
 ],
 "metadata": {
  "interpreter": {
   "hash": "4c5a57249d88ed4f534c90d8bfe2f15a5a8a10b99f099be8e8dc865ce7f6fb88"
  },
  "kernelspec": {
   "display_name": "Python 3.9.12 ('base')",
   "language": "python",
   "name": "python3"
  },
  "language_info": {
   "codemirror_mode": {
    "name": "ipython",
    "version": 3
   },
   "file_extension": ".py",
   "mimetype": "text/x-python",
   "name": "python",
   "nbconvert_exporter": "python",
   "pygments_lexer": "ipython3",
   "version": "3.9.12"
  },
  "orig_nbformat": 4
 },
 "nbformat": 4,
 "nbformat_minor": 2
}
